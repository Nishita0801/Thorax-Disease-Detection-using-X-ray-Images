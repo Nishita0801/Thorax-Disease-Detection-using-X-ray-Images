{
 "cells": [
  {
   "cell_type": "code",
   "execution_count": 3,
   "metadata": {},
   "outputs": [
    {
     "name": "stdout",
     "output_type": "stream",
     "text": [
      "Collecting tk\n",
      "  Downloading tk-0.1.0-py3-none-any.whl (3.9 kB)\n",
      "Installing collected packages: tk\n",
      "Successfully installed tk-0.1.0\n"
     ]
    }
   ],
   "source": [
    "!pip install tk"
   ]
  },
  {
   "cell_type": "code",
   "execution_count": 4,
   "metadata": {},
   "outputs": [
    {
     "name": "stdout",
     "output_type": "stream",
     "text": [
      "Requirement already satisfied: pillow in c:\\users\\91963\\anaconda3\\lib\\site-packages (7.0.0)\n"
     ]
    }
   ],
   "source": [
    "!pip install pillow"
   ]
  },
  {
   "cell_type": "code",
   "execution_count": null,
   "metadata": {
    "scrolled": true
   },
   "outputs": [],
   "source": [
    "import numpy as np # linear algebra\n",
    "import pandas as pd # data processing, CSV file I/O (e.g. pd.read_csv)\n",
    "import matplotlib.pyplot as plt\n",
    "import seaborn as sns\n",
    "import os\n",
    "import matplotlib.gridspec as gridspec\n",
    "import matplotlib.ticker as ticker\n",
    "sns.set_style('whitegrid')\n",
    "%matplotlib inline\n",
    "import warnings\n",
    "warnings.filterwarnings('ignore')\n",
    "from tqdm import tqdm \n",
    "import cv2\n",
    "import os \n",
    "import random \n",
    "import matplotlib.pylab as plt\n",
    "from glob import glob\n",
    "from tkinter import *\n",
    "from PIL import ImageTk, Image\n",
    "import PIL\n",
    "from tkinter import filedialog\n",
    "from keras.models import load_model\n",
    "from keras.preprocessing.image import img_to_array\n",
    "from keras.preprocessing.image import load_img\n",
    "from tensorflow.keras.preprocessing import image\n",
    "\n",
    "\n",
    "def open_img():\n",
    "    x = openfilename()\n",
    "    img = Image.open(x)\n",
    "    img = img.resize((400, 400), Image.ANTIALIAS)\n",
    "    #lbl1.config(text = \"Processing...\")\n",
    "    processing(img)\n",
    "    \n",
    "\n",
    "def openfilename():\n",
    "    filename = filedialog.askopenfilename(title ='pen')\n",
    "    return filename\n",
    "\n",
    "\n",
    "def processing(img):\n",
    "   img.save(\"data.jpg\")\n",
    "   lbl1.config(text = \"Processing...\")\n",
    "   predictor()\n",
    "\n",
    "\n",
    "def predictor():\n",
    "   MODEL_PATH = 'my_model1.h5'\n",
    "   model = load_model(MODEL_PATH)\n",
    "   img=image.load_img('C:\\\\Users\\\\91963\\\\Desktop\\\\archive\\\\data.jpg', target_size=(400,400))\n",
    "   img1 = np.array(img)\n",
    "   if(img1.ndim==3):\n",
    "     gray = cv2.cvtColor(img1, cv2.COLOR_BGR2GRAY)\n",
    "   else:\n",
    "     gray = img1\n",
    "   resized=cv2.resize(gray,(400, 400))\n",
    "   reshaped=resized.reshape( 1,400, 400,1)\n",
    "   preds=np.argmax(model.predict(reshaped), axis=1)\n",
    "   if preds==0:\n",
    "        preds=\"X ray having No Finding\"\n",
    "        \n",
    "   elif preds==1:\n",
    "        preds=\"X ray has Infiltration Disease\"\n",
    "   elif preds==2:\n",
    "        preds=\"X ray has Cardiomegaly Disease\"\n",
    "   elif preds==3:\n",
    "        preds=\"X ray has Emphysema Disease\"\n",
    "   elif preds==4:\n",
    "        preds=\"X ray has Effusion Disease\"\n",
    "   elif preds==5:\n",
    "        preds=\"X ray has Hernia Disease\"\n",
    "   elif preds==6:\n",
    "        preds=\"X ray has Nodule Disease\"\n",
    "   elif preds==7:\n",
    "        preds=\"X ray has Pneumothorax Disease\"\n",
    "   elif preds==8:\n",
    "        preds=\"X ray has Atelectasis Disease\"\n",
    "   elif preds==9:\n",
    "        preds=\"X ray has Pleural_Thickening Disease\"\n",
    "   elif preds==10:\n",
    "        preds=\"X ray has Mass Disease\"\n",
    "   elif preds==11:\n",
    "        preds=\"X ray has Edema Disease\"\n",
    "   elif preds==12:\n",
    "        preds=\"X ray has Fibrosis Disease\"\n",
    "   elif preds==13:\n",
    "        preds=\"X ray has Pneumonia Disease\"\n",
    "   elif preds==14:\n",
    "        preds=\"X ray has Consolidation Disease\"\n",
    "   \n",
    "   lbl1.config(text = preds,font=(\"Georgia\",27,\"bold\"))\n",
    "   print(preds)\n",
    "    \n",
    "    \n",
    "\n",
    "root = Tk()\n",
    "root.title(\"Healthify\")\n",
    "w = 1000  # width for the Tk root\n",
    "h = 650  # height for the Tk root\n",
    "\n",
    "# get screen width and height\n",
    "ws = root.winfo_screenwidth()  # width of the screen\n",
    "hs = root.winfo_screenheight()  # height of the screen\n",
    "\n",
    "# calculate x and y coordinates for the Tk root window\n",
    "x = (ws / 2) - (w / 2)\n",
    "y = (hs / 2) - (h / 2)\n",
    "\n",
    "# set the dimensions of the screen\n",
    "# and where it is placed\n",
    "root.geometry('%dx%d+%d+%d' % (w, h, x, y))\n",
    "root.config(bg = \"lavender\")\n",
    "root.resizable(width = True, height = True)\n",
    "\n",
    "lbl2=Label(root,text=\"Thorax Disease Detection using X-Rays\",font=(\"Georgia\",27,\"bold\"),fg=\"Grey77\",bg=\"Dark slate grey\")\n",
    "lbl2.pack(pady=20)\n",
    "\n",
    "btn = Button(root, text ='Upload your image', height=4, width=22,command = open_img).pack(pady=40)\n",
    "\n",
    "lbl1=Label(root,text=\"\",font=(\"Georgia\",27,\"bold\"),fg=\"Dark slate grey\",bg=\"lavender\")\n",
    "\n",
    "lbl1.pack(pady=20)\n",
    "root.mainloop()"
   ]
  },
  {
   "cell_type": "code",
   "execution_count": null,
   "metadata": {},
   "outputs": [],
   "source": []
  },
  {
   "cell_type": "code",
   "execution_count": null,
   "metadata": {},
   "outputs": [],
   "source": []
  }
 ],
 "metadata": {
  "kernelspec": {
   "display_name": "Python 3",
   "language": "python",
   "name": "python3"
  },
  "language_info": {
   "codemirror_mode": {
    "name": "ipython",
    "version": 3
   },
   "file_extension": ".py",
   "mimetype": "text/x-python",
   "name": "python",
   "nbconvert_exporter": "python",
   "pygments_lexer": "ipython3",
   "version": "3.7.6"
  }
 },
 "nbformat": 4,
 "nbformat_minor": 4
}
